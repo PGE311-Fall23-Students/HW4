{
 "cells": [
  {
   "cell_type": "markdown",
   "metadata": {
    "pycharm": {
     "name": "#%% md\n"
    }
   },
   "source": [
    "# HW4\n",
    "\n",
    "Please submit this assignment as a Jupyter Notebook with exactly the same name as \"HW4.ipynb\"  on Github."
   ]
  },
  {
   "cell_type": "code",
   "execution_count": null,
   "metadata": {
    "pycharm": {
     "name": "#%%\n"
    }
   },
   "outputs": [],
   "source": [
    "# Import needed packages\n",
    "import numpy as np\n",
    "import matplotlib.pyplot as plt"
   ]
  },
  {
   "cell_type": "markdown",
   "metadata": {
    "pycharm": {
     "name": "#%% md\n"
    }
   },
   "source": [
    "## Problem 1\n",
    "\n",
    "Fill out the blanks to solve Prob. **2.18** in the textbook. \n",
    "\n",
    "0. create v and F dataset according to both data table and function\n",
    "1. plot the data using circular magenta markers\n",
    "2. plot the function using a thin black dotted line\n",
    "3. Set the range of the x-axis to [0, 100]\n",
    "4. label axes and include grid lines"
   ]
  },
  {
   "cell_type": "code",
   "execution_count": null,
   "metadata": {
    "pycharm": {
     "name": "#%%\n"
    }
   },
   "outputs": [],
   "source": [
    "# Creating velocity array according to the data table\n",
    "v_data = \n",
    "\n",
    "# Creating force array according to the data table\n",
    "F_data = \n",
    "\n",
    "# Creating equally spaced 100 data in range 0 to 100\n",
    "v_f = \n",
    "\n",
    "# Generating force array using the given function\n",
    "F_f = \n"
   ]
  },
  {
   "cell_type": "code",
   "execution_count": null,
   "metadata": {},
   "outputs": [],
   "source": [
    "# Plotting\n",
    "\n",
    "\n",
    "\n",
    "\n",
    "\n",
    "\n",
    "\n"
   ]
  },
  {
   "cell_type": "markdown",
   "metadata": {},
   "source": [
    "## Problem 2\n",
    "\n",
    "Fill out the blanks to solve Prob. **2.19** in the textbook."
   ]
  },
  {
   "cell_type": "code",
   "execution_count": null,
   "metadata": {},
   "outputs": [],
   "source": [
    "# Create a log-log plot of the data and function from Prob. 2.18\n",
    "\n",
    "\n",
    "\n",
    "\n",
    "\n",
    "\n"
   ]
  },
  {
   "cell_type": "markdown",
   "metadata": {},
   "source": [
    "## Problem 3\n",
    "\n",
    "Fill out the blanks to solve Prob. **2.27** in the textbook.\n",
    "\n",
    "0. create t dataset from 0 to 100 in steps of 1/16\n",
    "1. plot x and y versus t using black lines and include a legend\n",
    "2. plot y versus x and make the axes equal\n",
    "3. add plot titles for each plot\n",
    "4. label axes and include grid lines for each plot"
   ]
  },
  {
   "cell_type": "code",
   "execution_count": null,
   "metadata": {
    "scrolled": true
   },
   "outputs": [],
   "source": [
    "# Create t dataset\n",
    "t = \n",
    "\n",
    "# Create x and y dataset\n",
    "x = \n",
    "\n",
    "y = \n",
    "\n",
    "# Plot results\n",
    "# First, plot x vs. t and y vs. t\n",
    "\n",
    "\n",
    "\n",
    "\n",
    "\n",
    "# Second, plot y vs. x and make the axes equal\n",
    "\n",
    "\n",
    "\n",
    "\n",
    "\n",
    "\n",
    "plt.show()"
   ]
  },
  {
   "cell_type": "markdown",
   "metadata": {},
   "source": [
    "## Problem 4: Reservoir Model Statistics\n",
    "Problem 4 is designed to practice imshow and histogram plotting. \n",
    "This [reservoir model](https://www.spe.org/web/csp/datasets/set02.htm) consists of part of a Brent sequence. The model size is 60 x 220 x 85 cells. We will do some analysis on porosity, permeability and relative permeability data.\n",
    "\n",
    "please fill out the following blanks to finish tasks:\n",
    "* load porosity, permeability and relative perm table from your current working directory\n",
    "- reshape porosity and perm data, split permeability into kx, ky and kz\n",
    "- plot a slice(z=50) of porosity, kx, ky and kz\n",
    "- plot histograms of porosity, kx, ky and kz for the entire reservoir\n",
    "- plot relative permeability curve\n"
   ]
  },
  {
   "cell_type": "code",
   "execution_count": null,
   "metadata": {},
   "outputs": [],
   "source": [
    "# Load data\n",
    "perm = np.loadtxt(\"spe_perm.dat\", dtype=np.float64)\n",
    "phi = np.loadtxt(\"spe_phi.dat\", dtype=np.float64)\n",
    "rel_perm = np.loadtxt('rel_perm_table.txt', dtype = np.float64, skiprows=1)"
   ]
  },
  {
   "cell_type": "code",
   "execution_count": null,
   "metadata": {},
   "outputs": [],
   "source": [
    "# a) Reshape porosity data in Nz-Ny-Nx sequence\n",
    "# Permeability data contain permeability in x direction, y direction and z direction\n",
    "# Reshape permeability data in 3-Nz-Ny-Nx sequence and split permeability into permx (Kx), permy(Ky) and permz(Kz)\n",
    "Nx = 60\n",
    "Ny = 220\n",
    "Nz = 85\n",
    "phi.shape = \n",
    "perm.shape = \n",
    "\n",
    "\n",
    "permx = perm[0,:,:,:]\n",
    "permy = perm[1,:,:,:]\n",
    "permz = perm[2,:,:,:]"
   ]
  },
  {
   "cell_type": "code",
   "execution_count": null,
   "metadata": {},
   "outputs": [],
   "source": [
    "# b) Use subplots to plot a slice(z = 50) of porosity, kx, ky and kz through the reservoir\n",
    "# Add titles for each subplot\n",
    "\n",
    "\n",
    "\n",
    "\n",
    "\n",
    "\n",
    "\n",
    "\n",
    "\n",
    "\n",
    "\n",
    "\n",
    "\n",
    "\n",
    "\n",
    "\n",
    "\n"
   ]
  },
  {
   "cell_type": "code",
   "execution_count": null,
   "metadata": {},
   "outputs": [],
   "source": [
    "# c) Use subplots to plot histograms of the porosity, kx, ky and kz of the whole reservoir.\n",
    "# You may need np.flatten() to convert a nD array into 1D array.\n",
    "# Include axes labels and titles for each subplot.\n",
    "\n",
    "\n",
    "\n",
    "\n",
    "\n",
    "\n",
    "\n",
    "\n",
    "\n",
    "\n",
    "\n",
    "\n",
    "\n",
    "\n",
    "\n",
    "\n",
    "\n",
    "\n",
    "\n",
    "\n"
   ]
  },
  {
   "cell_type": "code",
   "execution_count": null,
   "metadata": {},
   "outputs": [],
   "source": [
    "# d) Plot relative permeability of water phase versus water saturation using a blue line. \n",
    "# Plot relative permeability of oil phase versus water saturation using a green line. \n",
    "# Label axes, add legend\n",
    "\n",
    "\n",
    "\n",
    "\n",
    "\n",
    "\n",
    "\n",
    "\n",
    "\n",
    "\n",
    "\n",
    "\n",
    "\n",
    "\n",
    "\n",
    "\n",
    "\n"
   ]
  }
 ],
 "metadata": {
  "kernelspec": {
   "display_name": "Python 3 (ipykernel)",
   "language": "python",
   "name": "python3"
  },
  "language_info": {
   "codemirror_mode": {
    "name": "ipython",
    "version": 3
   },
   "file_extension": ".py",
   "mimetype": "text/x-python",
   "name": "python",
   "nbconvert_exporter": "python",
   "pygments_lexer": "ipython3",
   "version": "3.9.16"
  }
 },
 "nbformat": 4,
 "nbformat_minor": 1
}
